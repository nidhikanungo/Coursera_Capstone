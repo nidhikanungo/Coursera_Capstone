{
    "cells": [
        {
            "cell_type": "markdown",
            "metadata": {},
            "source": "## 1. Introduction / Business Problem"
        },
        {
            "cell_type": "markdown",
            "metadata": {},
            "source": "### The following project is aimed to find out where in the city of San Francisco would it be best to open or build a new bar for it to achieve its maximum success. We will look at what area is safest and most popular for the bar to thrive. Anyone that is looking to a open a bar in San Francisco or someone looking for a bar to visit can benefit from this analysis."
        },
        {
            "cell_type": "markdown",
            "metadata": {},
            "source": "## 2. Data"
        },
        {
            "cell_type": "markdown",
            "metadata": {},
            "source": "### Public datasets from San Francisco will be used alongside Foursquare API. We will be using 1) San Francisco Registered Business Data to help locate the number and type of business in each area, 2) San Francisco Crime Data to observe which neighborhood is safest to establish a new bar, and 3) Foursquare API Data for access to venue data."
        },
        {
            "cell_type": "markdown",
            "metadata": {},
            "source": "## a. San Francisco Registered Business Data"
        },
        {
            "cell_type": "markdown",
            "metadata": {},
            "source": "### Using python, we can grab the data from this public data set and put it into a pandas data frame in order to show us the number of businesses located within each neighborhood of SanFrancisco.\n"
        },
        {
            "cell_type": "markdown",
            "metadata": {},
            "source": "### The business registration data frame contains the name and number of businesses in the entire bay area and shows what neighborhood they are located. After cleaning up the data to see the number of businesses registered in San Francisco in the last 10 years group by neighborhood, this is the dataframe we get:"
        },
        {
            "cell_type": "markdown",
            "metadata": {},
            "source": "### It looks like the Financial District has significantly more business registrations than everywhere else, but all the top 10 have a steady number of businesses."
        },
        {
            "cell_type": "markdown",
            "metadata": {},
            "source": "## b. San Francisco Crime Data"
        },
        {
            "cell_type": "markdown",
            "metadata": {},
            "source": "### Next, we look at San Francisco\u2019s crime data to help us make sure we select a safe area for our bar.We are going to use python again to clean up the data to see the number of incidents in the last 5 years, per neighborhood. This will give us a good idea of the safe and less safe areas. We get the resulting data frame."
        },
        {
            "cell_type": "markdown",
            "metadata": {},
            "source": "# 3. Methodology: Data Visualization and Exploration"
        },
        {
            "cell_type": "markdown",
            "metadata": {},
            "source": "## a. Narrowing Down Neighborhoods"
        },
        {
            "cell_type": "markdown",
            "metadata": {},
            "source": "### By using graphs, we can examine our data sets and narrow down our options for our favorite neighborhoods for our new bar! Figure 3: Count of business registered in the last 10 years for each neighborhood in San Francisco, sorted from most to least (showing top 10). We will also look at a visualization of neighborhoods that experience the most crime."
        },
        {
            "cell_type": "markdown",
            "metadata": {},
            "source": "### Figure 4: Number of crimes reported in the last five years in each neighborhood in San Francisco, sorted from most to least (showing top 10). It looks like there is significantly more crime in the first 5 neighborhoods than the rest. We want to make sure we are located in a safe area so our clients feel safe. We will hence try and avoid these 5 dangerous neighborhoods. Using Python, we merge our business and crime data frames into one to get a refined list of neighborhoods with a high number of businesses and low crime."
        },
        {
            "cell_type": "markdown",
            "metadata": {},
            "source": "### Next, using our geopy library we get coordinates for each of our top neighborhoods. We have narrowed down our options to 6 neighborhoods that have a high business registration count and a low crime rate:\n1. Sunset\n2. Outer Richmond\n3. Marina\n4. Castro\n5. West of Twin Peaks\n6. Hayes Valley"
        },
        {
            "cell_type": "markdown",
            "metadata": {},
            "source": "## 3.2 Foursquare Data Analysis"
        },
        {
            "cell_type": "markdown",
            "metadata": {},
            "source": "### Foursquare API will help us retrieve information about the most popular venues in each neighborhood in San Francisco. This is insightful to know which type of venue is most popular in each neighborhood. Calling the Foursquare API returns a JSON file, which can be turned into a data frame for analysis in a python notebook. We start by writing a function that will search for the most popular venues within a half mile radius of our neighborhoods"
        },
        {
            "cell_type": "markdown",
            "metadata": {},
            "source": "### We get a data frame of 472 entries in the 6 neighborhoods and 169 unique venue categories"
        },
        {
            "cell_type": "markdown",
            "metadata": {},
            "source": "### Figure 5: Count of most frequently occurring popular venue types in the 6 prioritized neighborhoods, sorted from most frequent to least (showing top 5). Coffee shops are the most common popular venue type, followed by wine bars, parks, and various. This is good news as wine bars are definitely popular types of venues in our neighborhoods! Let\u2019s dig further into each of the neighborhoods to see the most popular types of venues for each neighborhood. To do this, we will take the following steps:"
        },
        {
            "cell_type": "markdown",
            "metadata": {},
            "source": "\n1. Create a data frame of venue categories with pandas one hot encoding\n2. Use pandas groupby to get the mean of the venue categories \n3. Transpose data frame and arrange in descending order"
        },
        {
            "cell_type": "markdown",
            "metadata": {},
            "source": "### We can see here the top venues for each neighborhood"
        },
        {
            "cell_type": "markdown",
            "metadata": {},
            "source": "### This data is important because it is giving us an idea of the atmosphere of each of these neighborhoods. The first two neighborhoods, Castro and Hayes Valley both have a type of bar as their more common venue. We can now narrow our search down to these two as we know people go there for the bar scene. Next we look at a dataframe that merges the crime and business data to see which of the neighborhoods, Castro or Hayes Valley, has a lower crime rate. Let\u2019s look at each neighborhood and determine what percentage of their top 30 popular venues are bars or restaurants:"
        },
        {
            "cell_type": "markdown",
            "metadata": {},
            "source": "### We can see in the figure that Hayes Valley has the third least crimes and is hence the better choice against Castro, the neighborhood with most crimes between the 6 neighborhoods"
        },
        {
            "cell_type": "markdown",
            "metadata": {},
            "source": "## b. Neighborhood Clustering"
        },
        {
            "cell_type": "markdown",
            "metadata": {},
            "source": "### Finally, we can cluster our 6 neighborhoods based on their popular venue categories. This will help us get a feel for which neighborhoods are like each other based on the venues people like to visit in each one. We use K-Means clustering, detailed in the code below, to group our neighborhoods into 3 clusters."
        },
        {
            "cell_type": "markdown",
            "metadata": {},
            "source": "### We can then display these clusters on a leaflet map using the Folium library"
        },
        {
            "cell_type": "markdown",
            "metadata": {},
            "source": "### Figure 7: A map of San Francisco with each of our 6 preferred neighborhoods clustered into 3 groups (can differentiate them by color) based on the types of popular venues in each neighborhood. The size of each dot represents the number of bars and restaurants listed as popular venues."
        },
        {
            "cell_type": "markdown",
            "metadata": {},
            "source": "### West of Twin Peaks alongside with Castro, Hayes Valley, and Marina are all clustered together. Meanwhile, outer Richmond was placed in its own cluster as was Sunset."
        },
        {
            "cell_type": "markdown",
            "metadata": {},
            "source": "## 3. Results and Discussion"
        },
        {
            "cell_type": "markdown",
            "metadata": {},
            "source": "### By using information from datasets of business registrations and crime rates, as well as Foursquare, we have narrowed down neighborhood options to open up a bar in one of six areas in San Francisco\n\n### The most common venues in our areas of interest were discovered to be coffee shops, wine bars, parks, pizza places, and Chinese restaurants.\n\n### Clustering neighborhoods based on their most popular venues grouped West of Twin Peaks alongside with Castro, Hayes Valley, and Marine. Meanwhile, outer Richmond was placed in its own cluster as was Sunset. Castro and Hayes Valley are the two neighborhoods where bars are the most popular venues.\n\n### Because Castro is the neighborhood that has the most crime rates out of the six areas we looked at, I have come to the conclusion that Hayes Valley is the neighborhood where a new bar should be opened because it is the 3rd out of 6 in crime rates and has much of a bar scene."
        },
        {
            "cell_type": "markdown",
            "metadata": {},
            "source": "## 4. Conclusion"
        },
        {
            "cell_type": "markdown",
            "metadata": {},
            "source": "### This data science project used python libraries to manipulate and transform datasets and Foursquare API to explore the neighborhoods of San Francisco. Folium map was used for clustering and segmenting the neighborhoods. These analytical tools allow for in depth analysis and problem solving as seen in this case. With public data of San Francisco alongside with the libraries I was able to make an educated choice on where I believe is the optimal neighborhood to open a bar in San Francisco."
        }
    ],
    "metadata": {
        "kernelspec": {
            "display_name": "Python 3.6",
            "language": "python",
            "name": "python3"
        },
        "language_info": {
            "codemirror_mode": {
                "name": "ipython",
                "version": 3
            },
            "file_extension": ".py",
            "mimetype": "text/x-python",
            "name": "python",
            "nbconvert_exporter": "python",
            "pygments_lexer": "ipython3",
            "version": "3.6.9"
        }
    },
    "nbformat": 4,
    "nbformat_minor": 1
}