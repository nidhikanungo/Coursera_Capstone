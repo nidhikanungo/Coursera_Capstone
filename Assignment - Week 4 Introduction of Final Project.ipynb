{
    "cells": [
        {
            "cell_type": "markdown",
            "metadata": {
                "collapsed": true
            },
            "source": "# Suitable place to open a Bar in San Fransisco"
        },
        {
            "cell_type": "markdown",
            "metadata": {},
            "source": "## Problem Description"
        },
        {
            "cell_type": "markdown",
            "metadata": {},
            "source": "The following project is aimed to find out where in the city of San Fransisco would it be best to open or build a new bar for it to achithriveeve its maximum success. We will look at what area is safest and most popular bar to thrive.This project will serve as an analysis for the concerned person who wishes to open a bar in San Fransisco.\nWe will explore the neighbourhood, kind of outlets in the neighbourhood and preference of the people."
        },
        {
            "cell_type": "markdown",
            "metadata": {},
            "source": "## Data Description"
        },
        {
            "cell_type": "markdown",
            "metadata": {},
            "source": "Public datasets from San Fransisco Government will be used along with FourSquare API data.\nWe will be using-\n1) San Francisco Registered Business Data - It will help us to locate the number and type of\nbusiness in each area, we will then segregate the area suitable for our business i.e. Bar \n2) San Francisco Crime Data - It is required to observe which neighborhood is safest to\nestablish a new bar as if a location is susptible to more crimes it will not be suitable for us.\n3) Foursquare API Data - It is required for access to venue data. The longitude and Latitude of the places will be extracted.\n\nNeighnlourhood will be narrowed down and clustering will be used to analyse the data.\n"
        },
        {
            "cell_type": "code",
            "execution_count": null,
            "metadata": {},
            "outputs": [],
            "source": ""
        }
    ],
    "metadata": {
        "kernelspec": {
            "display_name": "Python 3.6",
            "language": "python",
            "name": "python3"
        },
        "language_info": {
            "codemirror_mode": {
                "name": "ipython",
                "version": 3
            },
            "file_extension": ".py",
            "mimetype": "text/x-python",
            "name": "python",
            "nbconvert_exporter": "python",
            "pygments_lexer": "ipython3",
            "version": "3.6.9"
        }
    },
    "nbformat": 4,
    "nbformat_minor": 1
}